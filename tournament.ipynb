{
 "cells": [
  {
   "cell_type": "code",
   "execution_count": 1,
   "metadata": {},
   "outputs": [],
   "source": [
    "agent_list = [\n",
    "    {'model_name': 'ronaldinho', 'epoch': 20},\n",
    "    {'model_name': 'ronaldo', 'epoch': 20},\n",
    "    {'model_name': 'bobby', 'epoch': 20},\n",
    "    {'model_name': 'messi', 'epoch': 20}\n",
    "]\n",
    "\n",
    "full_name = '5x4silverman'\n",
    "dims = (5, 4)"
   ]
  },
  {
   "cell_type": "code",
   "execution_count": 2,
   "metadata": {},
   "outputs": [
    {
     "name": "stderr",
     "output_type": "stream",
     "text": [
      "WARNING:absl:Found untraced functions such as _jit_compiled_convolution_op, _jit_compiled_convolution_op while saving (showing 2 of 2). These functions will not be directly callable after loading.\n"
     ]
    },
    {
     "name": "stdout",
     "output_type": "stream",
     "text": [
      "INFO:tensorflow:Assets written to: C:\\Users\\Rares\\AppData\\Local\\Temp\\tmphnib7v2j\\assets\n"
     ]
    },
    {
     "name": "stderr",
     "output_type": "stream",
     "text": [
      "INFO:tensorflow:Assets written to: C:\\Users\\Rares\\AppData\\Local\\Temp\\tmphnib7v2j\\assets\n",
      "WARNING:absl:Found untraced functions such as _jit_compiled_convolution_op, _jit_compiled_convolution_op, _jit_compiled_convolution_op, _jit_compiled_convolution_op, _jit_compiled_convolution_op while saving (showing 5 of 9). These functions will not be directly callable after loading.\n"
     ]
    },
    {
     "name": "stdout",
     "output_type": "stream",
     "text": [
      "INFO:tensorflow:Assets written to: C:\\Users\\Rares\\AppData\\Local\\Temp\\tmpxvro8ri0\\assets\n"
     ]
    },
    {
     "name": "stderr",
     "output_type": "stream",
     "text": [
      "INFO:tensorflow:Assets written to: C:\\Users\\Rares\\AppData\\Local\\Temp\\tmpxvro8ri0\\assets\n",
      "WARNING:absl:Found untraced functions such as _jit_compiled_convolution_op, _jit_compiled_convolution_op, _jit_compiled_convolution_op, _jit_compiled_convolution_op, _jit_compiled_convolution_op while saving (showing 5 of 9). These functions will not be directly callable after loading.\n"
     ]
    },
    {
     "name": "stdout",
     "output_type": "stream",
     "text": [
      "INFO:tensorflow:Assets written to: C:\\Users\\Rares\\AppData\\Local\\Temp\\tmpvqdfgtex\\assets\n"
     ]
    },
    {
     "name": "stderr",
     "output_type": "stream",
     "text": [
      "INFO:tensorflow:Assets written to: C:\\Users\\Rares\\AppData\\Local\\Temp\\tmpvqdfgtex\\assets\n",
      "WARNING:absl:Found untraced functions such as _jit_compiled_convolution_op, _jit_compiled_convolution_op while saving (showing 2 of 2). These functions will not be directly callable after loading.\n"
     ]
    },
    {
     "name": "stdout",
     "output_type": "stream",
     "text": [
      "INFO:tensorflow:Assets written to: C:\\Users\\Rares\\AppData\\Local\\Temp\\tmp3gre04yl\\assets\n"
     ]
    },
    {
     "name": "stderr",
     "output_type": "stream",
     "text": [
      "INFO:tensorflow:Assets written to: C:\\Users\\Rares\\AppData\\Local\\Temp\\tmp3gre04yl\\assets\n"
     ]
    }
   ],
   "source": [
    "import tensorflow as tf\n",
    "from minichess.agents.lite_model import LiteModel\n",
    "from minichess.agents.predictor_convnet import PredictorConvNet\n",
    "\n",
    "def load_model(full_name, model_name, epoch):\n",
    "    keras_model = tf.keras.models.load_model(\"minichess/agents/checkpoints/{}/{}/{}\".format(full_name, model_name, epoch))\n",
    "    simple_model = PredictorConvNet(LiteModel.from_keras_model(keras_model))\n",
    "    del keras_model\n",
    "    return simple_model\n",
    "\n",
    "agents = [load_model(full_name, agent['model_name'], agent['epoch']) for agent in agent_list]\n",
    "\n",
    "agent_names = [f\"{agent['model_name']}_{agent['epoch']}\" for agent in agent_list]"
   ]
  },
  {
   "cell_type": "code",
   "execution_count": 3,
   "metadata": {},
   "outputs": [
    {
     "name": "stderr",
     "output_type": "stream",
     "text": [
      "c:\\Users\\Rares\\Desktop\\explainable-minichess\\minichess\\chess\\fastchess.py:159: RuntimeWarning: overflow encountered in ulonglong_scalars\n",
      "  return hash_table[i, j, (occupants * magic) >> np.uint64(64 - shift)]\n",
      "c:\\Users\\Rares\\Desktop\\explainable-minichess\\minichess\\chess\\fastchess_utils.py:421: RuntimeWarning: overflow encountered in ulonglong_scalars\n",
      "  return board & (board - B_1) != 0\n",
      "c:\\Users\\Rares\\Desktop\\explainable-minichess\\minichess\\chess\\fastchess.py:159: RuntimeWarning: overflow encountered in ulonglong_scalars\n",
      "  return hash_table[i, j, (occupants * magic) >> np.uint64(64 - shift)]\n",
      "c:\\Users\\Rares\\Desktop\\explainable-minichess\\minichess\\chess\\fastchess.py:159: RuntimeWarning: overflow encountered in ulonglong_scalars\n",
      "  return hash_table[i, j, (occupants * magic) >> np.uint64(64 - shift)]\n",
      "c:\\Users\\Rares\\Desktop\\explainable-minichess\\minichess\\chess\\fastchess_utils.py:421: RuntimeWarning: overflow encountered in ulonglong_scalars\n",
      "  return board & (board - B_1) != 0\n",
      "c:\\Users\\Rares\\Desktop\\explainable-minichess\\minichess\\chess\\fastchess.py:159: RuntimeWarning: overflow encountered in ulonglong_scalars\n",
      "  return hash_table[i, j, (occupants * magic) >> np.uint64(64 - shift)]\n",
      "c:\\Users\\Rares\\Desktop\\explainable-minichess\\minichess\\chess\\fastchess_utils.py:421: RuntimeWarning: overflow encountered in ulonglong_scalars\n",
      "  return board & (board - B_1) != 0\n"
     ]
    },
    {
     "name": "stdout",
     "output_type": "stream",
     "text": [
      "Final ELO Ratings:\n",
      "Agent ronaldinho_20: 823.90\n",
      "Agent bobby_20: 807.01\n",
      "Agent ronaldo_20: 788.29\n",
      "Agent messi_20: 780.80\n"
     ]
    }
   ],
   "source": [
    "from minichess.chess.move_utils import calculate_all_moves\n",
    "from game_simulations.tournament import simulate_round_robin_tournament\n",
    "\n",
    "all_moves, all_moves_inv = calculate_all_moves(dims)\n",
    "move_cap = all_moves_inv.shape[0]\n",
    "\n",
    "# Run the round-robin tournament\n",
    "final_elo = simulate_round_robin_tournament(\n",
    "    agents, full_name, dims, move_cap, all_moves, all_moves_inv, num_games_per_pair=1000, initial_elo=800, max_k=1000, min_k=40\n",
    ")\n",
    "\n",
    "print(\"Final ELO Ratings:\")\n",
    "for agent_id, elo in sorted(final_elo.items(), key=lambda x: -x[1]):\n",
    "    print(f\"Agent {agent_names[agent_id]}: {elo:.2f}\")"
   ]
  }
 ],
 "metadata": {
  "kernelspec": {
   "display_name": "Python 3",
   "language": "python",
   "name": "python3"
  },
  "language_info": {
   "codemirror_mode": {
    "name": "ipython",
    "version": 3
   },
   "file_extension": ".py",
   "mimetype": "text/x-python",
   "name": "python",
   "nbconvert_exporter": "python",
   "pygments_lexer": "ipython3",
   "version": "3.10.11"
  }
 },
 "nbformat": 4,
 "nbformat_minor": 2
}
